{
 "cells": [
  {
   "cell_type": "markdown",
   "metadata": {},
   "source": [
    "Sistema de Alerta"
   ]
  },
  {
   "cell_type": "code",
   "execution_count": null,
   "metadata": {},
   "outputs": [],
   "source": [
    "\n",
    "print(\"Este es un sistema de alerta, por favor, ingresa la velocidad del asteroide (en Km/h)\")\n",
    "Velocidad = input(\"Ingrese la velocidad del asteroide:\" )\n",
    "\n",
    "if int(Velocidad) > 25:\n",
    "    print(\"¡ADVERTENCIA, Un asteroide se acerca a velocidades peligrosas!\")\n",
    "\n",
    "else:\n",
    "    print(\"No existe riesgo de colapso, siga con su día\")\n"
   ]
  },
  {
   "cell_type": "code",
   "execution_count": null,
   "metadata": {},
   "outputs": [],
   "source": [
    "\n",
    "Velocidad = input(\"Ingrese la velocidad del asteroide:\" )\n",
    "\n",
    "if int(Velocidad) > 20:\n",
    "    print('Look up! ¡Hay una luz mágica en el cielo!')\n",
    "elif Velocidad == 20:\n",
    "    print('Look up! ¡Hay una luz mágica en el cielo!')\n",
    "else:\n",
    "    print('¡Nada que ver aquí!')"
   ]
  },
  {
   "cell_type": "code",
   "execution_count": null,
   "metadata": {},
   "outputs": [],
   "source": [
    "print(\"Este es un sistema de alerta, por favor, ingresa la velocidad del asteroide (en Km/h)\")\n",
    "Velocidad = input(\"Ingrese la velocidad del asteroide:\" )\n",
    "Dimension = input(\"Ingrese la dimnensión del asteroide en metros\")\n",
    "\n",
    "if int(Velocidad) > 25 and int(Dimension) >25:\n",
    "    print(\"¡ADVERTENCIA, Un asteroide se acerca peligrosamente!\")\n",
    "\n",
    "elif int(Velocidad) >= 20:\n",
    "        print('Look up! ¡Hay una luz mágica en el cielo!')\n",
    "elif int(Dimension) < 25:\n",
    "        print('¡Nada que ver aquí!')\n",
    "\n",
    "else:\n",
    "    print(\"Nada que ver aquí, siga con su día\")"
   ]
  }
 ],
 "metadata": {
  "interpreter": {
   "hash": "dc6e7c80e5a23452a22a6cc53d8d8d960059f498adbcb7c121c32221ecd9c4b3"
  },
  "kernelspec": {
   "display_name": "Python 3.10.2 64-bit",
   "language": "python",
   "name": "python3"
  },
  "language_info": {
   "codemirror_mode": {
    "name": "ipython",
    "version": 3
   },
   "file_extension": ".py",
   "mimetype": "text/x-python",
   "name": "python",
   "nbconvert_exporter": "python",
   "pygments_lexer": "ipython3",
   "version": "3.10.2"
  },
  "orig_nbformat": 4
 },
 "nbformat": 4,
 "nbformat_minor": 2
}
