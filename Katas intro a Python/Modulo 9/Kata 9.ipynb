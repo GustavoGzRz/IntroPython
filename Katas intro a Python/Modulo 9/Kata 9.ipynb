{
 "cells": [
  {
   "cell_type": "markdown",
   "metadata": {},
   "source": [
    "## Ejercicio: Uso de funciones en Python\n",
    "Ejercicio 1: Trabajar con argumentos en funciones"
   ]
  },
  {
   "cell_type": "code",
   "execution_count": null,
   "metadata": {},
   "outputs": [],
   "source": [
    "\n",
    "def reporte(tanque1, tanque2, tanque3):\n",
    "    promedio = (tanque1+tanque2+tanque3)/3\n",
    "    return f\"\"\"Fuel Report:\n",
    "    Promedio: {promedio}%\n",
    "    tanque1: {tanque1}%\n",
    "    tanque2: {tanque2}%\n",
    "    tanque3: {tanque3}% \n",
    "    \"\"\"\n",
    "print(reporte(80, 70, 85))\n",
    "\n",
    "def prom(values):\n",
    "    total = sum(values)\n",
    "    number_of_items = len(values)\n",
    "    return total / number_of_items\n",
    "\n",
    "prom([80, 85, 81]) \n",
    "\n",
    "def reporte(tanque1, tanque2, tanque3):\n",
    "    return f\"\"\"Fuel Report:\n",
    "    Promedio: {prom([tanque1, tanque2, tanque3])}%\n",
    "    tanque1: {tanque1}%\n",
    "    tanque2: {tanque2}%\n",
    "    tanque3: {tanque3}% \n",
    "    \"\"\"\n",
    "print(reporte(88, 76, 70))\n",
    "\n",
    "\n"
   ]
  },
  {
   "cell_type": "markdown",
   "metadata": {},
   "source": [
    "## Ejercicio 2: Trabajo con argumentos de palabra clave\n",
    "Ejercicio : Trabajar con argumentos de palabras clave en funciones"
   ]
  },
  {
   "cell_type": "code",
   "execution_count": 18,
   "metadata": {},
   "outputs": [
    {
     "name": "stdout",
     "output_type": "stream",
     "text": [
      "\n",
      "    Misión a: Luna\n",
      "    Tiempo total: 65 minutos\n",
      "    Combustible: 500000 galones\n",
      "    \n",
      "\n",
      "    Misión a: Luna\n",
      "    Tiempo total: 76 minutos\n",
      "    Combustible: 500000\n",
      "    \n",
      "\n",
      "    Misión a: Luna\n",
      "    Tiempo total: 74 minutos\n",
      "    Combustible: 500000\n",
      "    T1 300000 galones rest, T2 200000 galones rest, \n"
     ]
    }
   ],
   "source": [
    "def Reporte_De_Mision(lanzamiento, flight_time, destino, tanque2, tanque1):\n",
    "    return f\"\"\"\n",
    "    Misión a: {destino}\n",
    "    Tiempo total: {lanzamiento + flight_time} minutos\n",
    "    Combustible: {tanque2 + tanque1} galones\n",
    "    \"\"\"\n",
    "\n",
    "print(Reporte_De_Mision(14, 51, \"Luna\", 200000, 300000))\n",
    "\n",
    "def Reporte_De_Mision(destino, *minutes, **fuel_reservoirs):\n",
    "    return f\"\"\"\n",
    "    Misión a: {destino}\n",
    "    Tiempo total: {sum(minutes)} minutos\n",
    "    Combustible: {sum(fuel_reservoirs.values())}\n",
    "    \"\"\"\n",
    "\n",
    "print(Reporte_De_Mision(\"Luna\", 10, 15, 51, T1=300000, T2=200000))\n",
    "\n",
    "def Reporte_De_Mision(destino, *minutes, **fuel_reservoirs):\n",
    "    reportePrincipal = f\"\"\"\n",
    "    Misión a: {destino}\n",
    "    Tiempo total: {sum(minutes)} minutos\n",
    "    Combustible: {sum(fuel_reservoirs.values())}\n",
    "    \"\"\"\n",
    "    for tanque, gallons in fuel_reservoirs.items():\n",
    "        reportePrincipal += f\"{tanque} {gallons} galones rest, \"\n",
    "    return reportePrincipal\n",
    "\n",
    "print(Reporte_De_Mision(\"Luna\", 8, 11, 55, T1=300000, T2=200000))"
   ]
  }
 ],
 "metadata": {
  "interpreter": {
   "hash": "dc6e7c80e5a23452a22a6cc53d8d8d960059f498adbcb7c121c32221ecd9c4b3"
  },
  "kernelspec": {
   "display_name": "Python 3.10.2 64-bit",
   "language": "python",
   "name": "python3"
  },
  "language_info": {
   "codemirror_mode": {
    "name": "ipython",
    "version": 3
   },
   "file_extension": ".py",
   "mimetype": "text/x-python",
   "name": "python",
   "nbconvert_exporter": "python",
   "pygments_lexer": "ipython3",
   "version": "3.10.2"
  },
  "orig_nbformat": 4
 },
 "nbformat": 4,
 "nbformat_minor": 2
}
