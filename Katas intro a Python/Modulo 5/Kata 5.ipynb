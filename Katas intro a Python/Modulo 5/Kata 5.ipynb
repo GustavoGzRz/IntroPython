{
 "cells": [
  {
   "cell_type": "markdown",
   "metadata": {},
   "source": [
    "## Ejercicio1. Utilizar operadores aritméticos"
   ]
  },
  {
   "cell_type": "code",
   "execution_count": null,
   "metadata": {},
   "outputs": [],
   "source": [
    "tierra = 149597870\n",
    "jupiter = 778547200\n",
    "\n",
    "diferencia = jupiter - tierra\n",
    "diferenciaKm = diferencia * 0.621\n",
    "\n",
    "print(diferencia)\n",
    "print(diferenciaKm)"
   ]
  },
  {
   "cell_type": "markdown",
   "metadata": {},
   "source": [
    "## Ejercicio 2. Convertir cadenas en números y usa valores absolutos"
   ]
  },
  {
   "cell_type": "code",
   "execution_count": null,
   "metadata": {},
   "outputs": [],
   "source": [
    "planet1 = input(\"Introduce la distancia del primer planeta\")\n",
    "planet2 = input(\"Introduce la distancia del segundo planeta\")\n",
    "\n",
    "planet1 = int(planet1)\n",
    "planet2 = int(planet2)\n",
    "\n",
    "distance = planet1 - planet2\n",
    "distanceKm = distance*0.621\n",
    "\n",
    "print(abs(distance))\n",
    "print(abs(distanceKm))\n",
    "\n",
    "\n"
   ]
  }
 ],
 "metadata": {
  "interpreter": {
   "hash": "dc6e7c80e5a23452a22a6cc53d8d8d960059f498adbcb7c121c32221ecd9c4b3"
  },
  "kernelspec": {
   "display_name": "Python 3.10.2 64-bit",
   "language": "python",
   "name": "python3"
  },
  "language_info": {
   "codemirror_mode": {
    "name": "ipython",
    "version": 3
   },
   "file_extension": ".py",
   "mimetype": "text/x-python",
   "name": "python",
   "nbconvert_exporter": "python",
   "pygments_lexer": "ipython3",
   "version": "3.10.2"
  },
  "orig_nbformat": 4
 },
 "nbformat": 4,
 "nbformat_minor": 2
}
